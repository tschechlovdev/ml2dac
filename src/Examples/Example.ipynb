{
 "cells": [
  {
   "cell_type": "markdown",
   "id": "df3f0002",
   "metadata": {},
   "source": [
    "# Examples for ML2DAC\n",
    "\n",
    "In this notebook, we show examples on how to user our approach. Especially, how to set parameters and apply it on a custom dataset. Note that we use the MetaKnowledgeRepository (MKR) that we have created with the LearningPhase.py script. Hence, have a look at that script on how to built the MKR or how to extend it."
   ]
  },
  {
   "cell_type": "code",
   "execution_count": 1,
   "id": "6fa3e178",
   "metadata": {},
   "outputs": [],
   "source": [
    "from MetaLearning.ApplicationPhase import ApplicationPhase\n",
    "from MetaLearning import MetaFeatureExtractor\n",
    "from pathlib import Path\n",
    "from pandas.core.common import SettingWithCopyWarning\n",
    "import warnings\n",
    "warnings.filterwarnings(category=RuntimeWarning, action=\"ignore\")\n",
    "warnings.filterwarnings(category=SettingWithCopyWarning, action=\"ignore\")\n",
    "import numpy as np\n",
    "np.random.seed(0)\n",
    "# Specify where to find our MKR\n",
    "mkr_path = Path(\"../MetaKnowledgeRepository/\")\n",
    "\n",
    "# Specify meta-feature set to use. This is the set General+Stats+Info \n",
    "mf_set = MetaFeatureExtractor.meta_feature_sets[4]"
   ]
  },
  {
   "cell_type": "markdown",
   "id": "c1d2a81d",
   "metadata": {},
   "source": [
    "## Example on a simple synthetic dataset"
   ]
  },
  {
   "cell_type": "markdown",
   "id": "16df4297",
   "metadata": {},
   "source": [
    "First create a simple synthetic dataset."
   ]
  },
  {
   "cell_type": "code",
   "execution_count": 2,
   "id": "13c390b4",
   "metadata": {},
   "outputs": [],
   "source": [
    "# Create simple synthetic dataset\n",
    "from sklearn.datasets import make_blobs\n",
    "# We expect the data as numpy arrays\n",
    "X,y = make_blobs(n_samples=1000, n_features=10, random_state=0)\n",
    "\n",
    "# We also use a name to describe/identify this dataset\n",
    "dataset_name = \"simple_blobs_n1000_f10\""
   ]
  },
  {
   "cell_type": "markdown",
   "id": "be66d8f5",
   "metadata": {},
   "source": [
    "Specify some parameter settings of our approach."
   ]
  },
  {
   "cell_type": "code",
   "execution_count": 3,
   "id": "205094fe",
   "metadata": {},
   "outputs": [],
   "source": [
    "# Parameters of our approach. This can be customized\n",
    "n_warmstarts = 5 # Number of warmstart configurations (has to be smaller than n_loops)\n",
    "n_loops = 10 # Number of optimizer loops. This is n_loops = n_warmstarts + x\n",
    "limit_cs = True # Reduces the search space to suitable algorithms, dependening on warmstart configurations\n",
    "time_limit = 120 * 60 # Time limit of overall optimization --> Aborts earlier if n_loops not finished but time_limit reached\n",
    "cvi = \"predict\" # We want to predict a cvi based on our meta-knowledge"
   ]
  },
  {
   "cell_type": "markdown",
   "id": "3c63ed25",
   "metadata": {},
   "source": [
    "Instantiate our ML2DAC approach."
   ]
  },
  {
   "cell_type": "code",
   "execution_count": 4,
   "id": "d2fd3542",
   "metadata": {},
   "outputs": [],
   "source": [
    "ML2DAC = ApplicationPhase(mkr_path=mkr_path, mf_set=mf_set)"
   ]
  },
  {
   "cell_type": "markdown",
   "id": "93acad87",
   "metadata": {},
   "source": [
    "Run the optimization procedure."
   ]
  },
  {
   "cell_type": "code",
   "execution_count": 5,
   "id": "c308f27d",
   "metadata": {},
   "outputs": [
    {
     "name": "stdout",
     "output_type": "stream",
     "text": [
      "----------------------------------\n",
      "Most similar dataset is: type=gaussian-k=10-n=1000-d=10-noise=0\n",
      "--\n",
      "Selected CVI: Calinski-Harabasz (CH)\n",
      "--\n",
      "Selected Warmstart Configs:\n",
      "28    {'algorithm': 'affinity_propagation', 'damping...\n",
      "74              {'algorithm': 'ward', 'n_clusters': 10}\n",
      "64              {'algorithm': 'ward', 'n_clusters': 12}\n",
      "24          {'algorithm': 'spectral', 'n_clusters': 12}\n",
      "25    {'algorithm': 'dbscan', 'eps': 0.7585251766955...\n",
      "Name: config, dtype: object\n",
      "--\n",
      "Selected Algorithms: ['affinity_propagation', 'ward', 'spectral', 'dbscan']\n",
      "--\n",
      "----------------------------------\n",
      "Starting the optimization\n",
      "Executing Configuration: Configuration:\n",
      "  algorithm, Value: 'affinity_propagation'\n",
      "  damping, Value: 0.9009756450229847\n",
      "\n",
      "Obtained CVI score for CH: -651.9920584630048\n",
      "----\n",
      "Executing Configuration: Configuration:\n",
      "  algorithm, Value: 'ward'\n",
      "  n_clusters, Value: 10\n",
      "\n",
      "Obtained CVI score for CH: -870.9795439649938\n",
      "----\n",
      "Executing Configuration: Configuration:\n",
      "  algorithm, Value: 'affinity_propagation'\n",
      "  damping, Value: 0.75\n",
      "\n",
      "Obtained CVI score for CH: -652.9965801817706\n",
      "----\n",
      "Executing Configuration: Configuration:\n",
      "  algorithm, Value: 'ward'\n",
      "  n_clusters, Value: 12\n",
      "\n",
      "Obtained CVI score for CH: -755.9522509759155\n",
      "----\n",
      "Executing Configuration: Configuration:\n",
      "  algorithm, Value: 'spectral'\n",
      "  n_clusters, Value: 12\n",
      "\n",
      "Obtained CVI score for CH: -725.3935217961194\n",
      "----\n",
      "Executing Configuration: Configuration:\n",
      "  algorithm, Value: 'dbscan'\n",
      "  eps, Value: 0.7585251766955601\n",
      "  min_samples, Value: 34\n",
      "\n",
      "Obtained CVI score for CH: 2147483647\n",
      "----\n",
      "Executing Configuration: Configuration:\n",
      "  algorithm, Value: 'spectral'\n",
      "  n_clusters, Value: 9\n",
      "\n",
      "Obtained CVI score for CH: -1023.5498067202399\n",
      "----\n",
      "Executing Configuration: Configuration:\n",
      "  algorithm, Value: 'spectral'\n",
      "  n_clusters, Value: 5\n",
      "\n",
      "Obtained CVI score for CH: -1522.25320242192\n",
      "----\n",
      "Executing Configuration: Configuration:\n",
      "  algorithm, Value: 'spectral'\n",
      "  n_clusters, Value: 10\n",
      "\n",
      "Obtained CVI score for CH: -871.4639161790338\n",
      "----\n",
      "Executing Configuration: Configuration:\n",
      "  algorithm, Value: 'spectral'\n",
      "  n_clusters, Value: 3\n",
      "\n",
      "Obtained CVI score for CH: -2628.8572356039226\n",
      "----\n",
      "----------------------------------\n",
      "Finished Optimization\n",
      "Best obtained configuration is:\n",
      "Configuration:\n",
      "  algorithm, Value: 'spectral'\n",
      "  n_clusters, Value: 3\n",
      "\n"
     ]
    }
   ],
   "source": [
    "optimizer_result, additional_info = ML2DAC.optimize_with_meta_learning(X, n_warmstarts=n_warmstarts,\n",
    "                                                                       n_optimizer_loops=n_loops, \n",
    "                                                                       limit_cs=limit_cs,\n",
    "                                                                       cvi=cvi, time_limit=time_limit,\n",
    "                                                                       dataset_name=dataset_name)"
   ]
  },
  {
   "cell_type": "markdown",
   "id": "784028fe",
   "metadata": {},
   "source": [
    "The result contains two parts: (1) opimizer_result, which contains a history of the executed configurations in their executed order, with their runtime and the scores of the selected CVI, and (2) additional_info, which has some basic information of our meta-learning procedure, i.e., how long the meta-feature extraction took, the selected CVI, the algorithms that we used in the configuraiton space, and the dataset from the MKR that was most similar to the new dataset."
   ]
  },
  {
   "cell_type": "code",
   "execution_count": 6,
   "id": "88f84e8f",
   "metadata": {},
   "outputs": [
    {
     "data": {
      "text/html": [
       "<div>\n",
       "<style scoped>\n",
       "    .dataframe tbody tr th:only-of-type {\n",
       "        vertical-align: middle;\n",
       "    }\n",
       "\n",
       "    .dataframe tbody tr th {\n",
       "        vertical-align: top;\n",
       "    }\n",
       "\n",
       "    .dataframe thead th {\n",
       "        text-align: right;\n",
       "    }\n",
       "</style>\n",
       "<table border=\"1\" class=\"dataframe\">\n",
       "  <thead>\n",
       "    <tr style=\"text-align: right;\">\n",
       "      <th></th>\n",
       "      <th>runtime</th>\n",
       "      <th>CH</th>\n",
       "      <th>config</th>\n",
       "      <th>labels</th>\n",
       "    </tr>\n",
       "  </thead>\n",
       "  <tbody>\n",
       "    <tr>\n",
       "      <th>0</th>\n",
       "      <td>0.899647</td>\n",
       "      <td>-6.519921e+02</td>\n",
       "      <td>{'algorithm': 'affinity_propagation', 'damping...</td>\n",
       "      <td>[10, 8, 8, 9, 7, 2, 2, 6, 15, 1, 5, 6, 5, 9, 1...</td>\n",
       "    </tr>\n",
       "    <tr>\n",
       "      <th>1</th>\n",
       "      <td>0.055966</td>\n",
       "      <td>-8.709795e+02</td>\n",
       "      <td>{'algorithm': 'ward', 'n_clusters': 10}</td>\n",
       "      <td>[6, 5, 5, 1, 4, 5, 5, 8, 9, 7, 0, 0, 1, 1, 4, ...</td>\n",
       "    </tr>\n",
       "    <tr>\n",
       "      <th>2</th>\n",
       "      <td>0.505862</td>\n",
       "      <td>-6.529966e+02</td>\n",
       "      <td>{'algorithm': 'affinity_propagation', 'damping...</td>\n",
       "      <td>[9, 7, 7, 8, 6, 2, 2, 5, 15, 1, 4, 5, 4, 8, 10...</td>\n",
       "    </tr>\n",
       "    <tr>\n",
       "      <th>3</th>\n",
       "      <td>0.054794</td>\n",
       "      <td>-7.559523e+02</td>\n",
       "      <td>{'algorithm': 'ward', 'n_clusters': 12}</td>\n",
       "      <td>[6, 2, 2, 5, 4, 2, 2, 8, 9, 3, 10, 7, 5, 5, 4,...</td>\n",
       "    </tr>\n",
       "    <tr>\n",
       "      <th>4</th>\n",
       "      <td>0.365247</td>\n",
       "      <td>-7.253935e+02</td>\n",
       "      <td>{'algorithm': 'spectral', 'n_clusters': 12}</td>\n",
       "      <td>[3, 11, 7, 0, 5, 7, 7, 9, 7, 5, 6, 9, 6, 9, 1,...</td>\n",
       "    </tr>\n",
       "    <tr>\n",
       "      <th>5</th>\n",
       "      <td>0.046830</td>\n",
       "      <td>2.147484e+09</td>\n",
       "      <td>{'algorithm': 'dbscan', 'eps': 0.7585251766955...</td>\n",
       "      <td>[-1, -1, -1, -1, -1, -1, -1, -1, -1, -1, -1, -...</td>\n",
       "    </tr>\n",
       "    <tr>\n",
       "      <th>6</th>\n",
       "      <td>0.277159</td>\n",
       "      <td>-1.023550e+03</td>\n",
       "      <td>{'algorithm': 'spectral', 'n_clusters': 9}</td>\n",
       "      <td>[8, 5, 5, 0, 2, 5, 5, 4, 5, 2, 3, 4, 3, 3, 6, ...</td>\n",
       "    </tr>\n",
       "    <tr>\n",
       "      <th>7</th>\n",
       "      <td>0.344897</td>\n",
       "      <td>-1.522253e+03</td>\n",
       "      <td>{'algorithm': 'spectral', 'n_clusters': 5}</td>\n",
       "      <td>[3, 4, 4, 0, 2, 4, 4, 0, 4, 2, 0, 0, 0, 0, 2, ...</td>\n",
       "    </tr>\n",
       "    <tr>\n",
       "      <th>8</th>\n",
       "      <td>0.351404</td>\n",
       "      <td>-8.714639e+02</td>\n",
       "      <td>{'algorithm': 'spectral', 'n_clusters': 10}</td>\n",
       "      <td>[9, 7, 7, 0, 6, 7, 7, 5, 7, 4, 3, 5, 3, 5, 4, ...</td>\n",
       "    </tr>\n",
       "    <tr>\n",
       "      <th>9</th>\n",
       "      <td>0.273288</td>\n",
       "      <td>-2.628857e+03</td>\n",
       "      <td>{'algorithm': 'spectral', 'n_clusters': 3}</td>\n",
       "      <td>[1, 1, 1, 0, 2, 1, 1, 0, 1, 2, 0, 0, 0, 0, 2, ...</td>\n",
       "    </tr>\n",
       "  </tbody>\n",
       "</table>\n",
       "</div>"
      ],
      "text/plain": [
       "    runtime            CH                                             config  \\\n",
       "0  0.899647 -6.519921e+02  {'algorithm': 'affinity_propagation', 'damping...   \n",
       "1  0.055966 -8.709795e+02            {'algorithm': 'ward', 'n_clusters': 10}   \n",
       "2  0.505862 -6.529966e+02  {'algorithm': 'affinity_propagation', 'damping...   \n",
       "3  0.054794 -7.559523e+02            {'algorithm': 'ward', 'n_clusters': 12}   \n",
       "4  0.365247 -7.253935e+02        {'algorithm': 'spectral', 'n_clusters': 12}   \n",
       "5  0.046830  2.147484e+09  {'algorithm': 'dbscan', 'eps': 0.7585251766955...   \n",
       "6  0.277159 -1.023550e+03         {'algorithm': 'spectral', 'n_clusters': 9}   \n",
       "7  0.344897 -1.522253e+03         {'algorithm': 'spectral', 'n_clusters': 5}   \n",
       "8  0.351404 -8.714639e+02        {'algorithm': 'spectral', 'n_clusters': 10}   \n",
       "9  0.273288 -2.628857e+03         {'algorithm': 'spectral', 'n_clusters': 3}   \n",
       "\n",
       "                                              labels  \n",
       "0  [10, 8, 8, 9, 7, 2, 2, 6, 15, 1, 5, 6, 5, 9, 1...  \n",
       "1  [6, 5, 5, 1, 4, 5, 5, 8, 9, 7, 0, 0, 1, 1, 4, ...  \n",
       "2  [9, 7, 7, 8, 6, 2, 2, 5, 15, 1, 4, 5, 4, 8, 10...  \n",
       "3  [6, 2, 2, 5, 4, 2, 2, 8, 9, 3, 10, 7, 5, 5, 4,...  \n",
       "4  [3, 11, 7, 0, 5, 7, 7, 9, 7, 5, 6, 9, 6, 9, 1,...  \n",
       "5  [-1, -1, -1, -1, -1, -1, -1, -1, -1, -1, -1, -...  \n",
       "6  [8, 5, 5, 0, 2, 5, 5, 4, 5, 2, 3, 4, 3, 3, 6, ...  \n",
       "7  [3, 4, 4, 0, 2, 4, 4, 0, 4, 2, 0, 0, 0, 0, 2, ...  \n",
       "8  [9, 7, 7, 0, 6, 7, 7, 5, 7, 4, 3, 5, 3, 5, 4, ...  \n",
       "9  [1, 1, 1, 0, 2, 1, 1, 0, 1, 2, 0, 0, 0, 0, 2, ...  "
      ]
     },
     "execution_count": 6,
     "metadata": {},
     "output_type": "execute_result"
    }
   ],
   "source": [
    "optimizer_result.get_runhistory_df()"
   ]
  },
  {
   "cell_type": "code",
   "execution_count": 7,
   "id": "ac9f1cef",
   "metadata": {},
   "outputs": [
    {
     "data": {
      "text/plain": [
       "{'dataset': 'simple_blobs_n1000_f10',\n",
       " 'mf time': 1.043367862701416,\n",
       " 'similar dataset': 'type=gaussian-k=10-n=1000-d=10-noise=0',\n",
       " 'CVI': 'CH',\n",
       " 'algorithms': ['affinity_propagation', 'ward', 'spectral', 'dbscan']}"
      ]
     },
     "execution_count": 7,
     "metadata": {},
     "output_type": "execute_result"
    }
   ],
   "source": [
    "additional_info"
   ]
  },
  {
   "cell_type": "markdown",
   "id": "37af78be",
   "metadata": {},
   "source": [
    "Now we retrieve the best configuration with its predicted clustering labels and compare it against the ground-truth clustering."
   ]
  },
  {
   "cell_type": "code",
   "execution_count": 8,
   "id": "7750d671",
   "metadata": {},
   "outputs": [
    {
     "name": "stderr",
     "output_type": "stream",
     "text": [
      "/home/tschecds/anaconda3/envs/auto_consensus/lib/python3.9/site-packages/pandas/core/frame.py:1485: FutureWarning: Using short name for 'orient' is deprecated. Only the options: ('dict', list, 'series', 'split', 'records', 'index') will be used in a future version. Use one of the above to silence this warning.\n",
      "  warnings.warn(\n"
     ]
    },
    {
     "data": {
      "text/plain": [
       "{'runtime': 0.2732877731323242,\n",
       " 'CH': -2628.8572356039226,\n",
       " 'config': {'algorithm': 'spectral', 'n_clusters': 3},\n",
       " 'labels': array([1, 1, 1, 0, 2, 1, 1, 0, 1, 2, 0, 0, 0, 0, 2, 1, 1, 1, 2, 2, 0, 0,\n",
       "        2, 0, 0, 0, 0, 1, 1, 2, 1, 2, 0, 2, 1, 2, 1, 0, 2, 0, 2, 0, 1, 2,\n",
       "        0, 0, 2, 2, 1, 2, 1, 2, 1, 1, 1, 2, 1, 2, 2, 1, 1, 0, 2, 0, 2, 1,\n",
       "        1, 0, 0, 2, 2, 1, 0, 0, 0, 0, 2, 0, 0, 0, 2, 1, 1, 1, 1, 0, 1, 0,\n",
       "        2, 1, 2, 0, 2, 0, 2, 1, 0, 1, 2, 2, 0, 0, 1, 0, 1, 1, 0, 0, 2, 0,\n",
       "        0, 0, 2, 1, 1, 1, 2, 0, 2, 0, 0, 1, 0, 2, 1, 1, 1, 1, 0, 2, 1, 0,\n",
       "        2, 0, 0, 1, 2, 1, 2, 2, 1, 1, 1, 2, 1, 1, 2, 2, 2, 2, 1, 0, 0, 2,\n",
       "        0, 2, 2, 0, 1, 2, 1, 1, 0, 2, 1, 0, 0, 1, 0, 0, 0, 2, 2, 2, 1, 2,\n",
       "        0, 0, 0, 0, 1, 0, 2, 1, 0, 2, 0, 1, 1, 1, 2, 0, 0, 0, 1, 2, 1, 0,\n",
       "        2, 1, 2, 2, 0, 2, 2, 1, 1, 0, 0, 1, 2, 2, 0, 1, 2, 2, 2, 2, 2, 2,\n",
       "        1, 0, 1, 2, 1, 2, 1, 1, 0, 1, 0, 0, 2, 2, 0, 2, 1, 0, 0, 2, 0, 1,\n",
       "        1, 0, 1, 2, 1, 2, 2, 0, 2, 2, 2, 0, 1, 0, 1, 0, 2, 2, 0, 1, 2, 1,\n",
       "        0, 2, 0, 0, 0, 0, 0, 0, 2, 2, 0, 0, 1, 2, 0, 1, 2, 0, 1, 1, 2, 1,\n",
       "        0, 1, 0, 2, 1, 0, 1, 2, 1, 0, 1, 1, 1, 2, 0, 0, 2, 2, 0, 2, 1, 0,\n",
       "        1, 0, 1, 2, 0, 1, 0, 0, 2, 0, 2, 0, 1, 1, 2, 2, 2, 0, 1, 1, 1, 0,\n",
       "        2, 0, 0, 2, 0, 1, 1, 0, 2, 2, 0, 2, 0, 0, 0, 1, 2, 2, 0, 2, 2, 0,\n",
       "        2, 1, 0, 2, 2, 0, 1, 0, 1, 2, 2, 1, 2, 1, 0, 1, 2, 0, 1, 2, 2, 0,\n",
       "        1, 0, 1, 2, 0, 0, 0, 0, 1, 1, 1, 1, 0, 2, 1, 2, 2, 1, 0, 2, 2, 1,\n",
       "        0, 0, 1, 2, 2, 0, 1, 1, 0, 2, 0, 1, 1, 2, 2, 0, 2, 1, 1, 2, 0, 2,\n",
       "        2, 1, 1, 1, 0, 2, 2, 2, 2, 1, 2, 2, 0, 2, 0, 1, 0, 1, 0, 1, 2, 1,\n",
       "        1, 1, 2, 1, 1, 1, 1, 2, 2, 2, 2, 2, 2, 0, 2, 1, 1, 0, 1, 1, 1, 2,\n",
       "        1, 1, 1, 1, 0, 1, 1, 1, 2, 1, 0, 0, 2, 0, 1, 2, 0, 1, 2, 2, 0, 1,\n",
       "        1, 1, 0, 2, 1, 0, 2, 1, 2, 0, 1, 2, 1, 1, 1, 0, 1, 1, 2, 2, 2, 2,\n",
       "        0, 2, 1, 1, 1, 0, 0, 1, 2, 2, 1, 1, 2, 2, 0, 0, 0, 1, 0, 0, 1, 0,\n",
       "        1, 0, 0, 1, 2, 0, 2, 2, 0, 1, 1, 0, 1, 0, 2, 2, 0, 1, 0, 2, 2, 0,\n",
       "        2, 0, 2, 1, 0, 1, 2, 0, 0, 2, 2, 0, 1, 2, 0, 1, 0, 1, 2, 2, 1, 1,\n",
       "        0, 2, 2, 2, 1, 0, 2, 1, 0, 0, 0, 0, 0, 2, 1, 0, 1, 2, 2, 2, 1, 2,\n",
       "        0, 2, 1, 2, 1, 0, 0, 0, 1, 0, 1, 0, 0, 2, 0, 2, 2, 1, 2, 0, 2, 0,\n",
       "        2, 0, 1, 0, 0, 0, 0, 1, 0, 2, 0, 0, 0, 1, 2, 0, 1, 1, 1, 0, 2, 2,\n",
       "        0, 0, 1, 1, 0, 1, 1, 2, 1, 0, 2, 2, 2, 1, 2, 0, 0, 0, 1, 0, 0, 1,\n",
       "        0, 0, 1, 0, 0, 1, 0, 1, 2, 1, 0, 2, 1, 2, 2, 2, 0, 2, 0, 2, 1, 1,\n",
       "        2, 0, 0, 0, 2, 1, 2, 0, 0, 0, 0, 2, 1, 0, 2, 2, 0, 0, 1, 0, 1, 1,\n",
       "        1, 1, 2, 0, 0, 0, 1, 2, 0, 1, 2, 1, 1, 2, 0, 0, 2, 2, 0, 2, 2, 0,\n",
       "        1, 1, 2, 2, 2, 2, 2, 0, 1, 0, 0, 2, 1, 2, 1, 1, 2, 2, 2, 1, 0, 1,\n",
       "        2, 2, 0, 1, 2, 2, 2, 1, 0, 2, 2, 0, 1, 2, 1, 1, 0, 0, 1, 0, 2, 1,\n",
       "        2, 1, 2, 2, 2, 2, 1, 0, 0, 2, 1, 2, 0, 0, 0, 0, 1, 1, 2, 1, 1, 1,\n",
       "        1, 1, 1, 0, 0, 1, 2, 1, 2, 2, 0, 2, 2, 1, 1, 2, 1, 1, 1, 1, 2, 2,\n",
       "        0, 2, 1, 2, 0, 2, 1, 0, 2, 0, 2, 1, 2, 0, 0, 1, 0, 0, 1, 0, 0, 1,\n",
       "        0, 1, 0, 2, 0, 1, 2, 0, 1, 1, 1, 0, 0, 0, 0, 0, 1, 0, 2, 2, 1, 2,\n",
       "        2, 1, 0, 2, 2, 2, 2, 0, 0, 2, 0, 0, 2, 1, 2, 1, 1, 1, 1, 1, 0, 0,\n",
       "        2, 2, 0, 0, 0, 0, 2, 1, 0, 1, 1, 2, 2, 2, 2, 1, 2, 1, 0, 1, 1, 2,\n",
       "        1, 1, 0, 1, 2, 1, 0, 0, 1, 2, 1, 2, 1, 1, 2, 1, 1, 1, 2, 2, 2, 1,\n",
       "        2, 2, 1, 1, 1, 1, 0, 1, 0, 2, 2, 2, 2, 0, 2, 2, 1, 0, 2, 2, 0, 1,\n",
       "        0, 0, 2, 0, 1, 1, 0, 1, 0, 2, 2, 2, 2, 0, 2, 0, 2, 1, 0, 1, 0, 1,\n",
       "        2, 2, 2, 2, 0, 2, 1, 1, 2, 0, 2, 0, 0, 1, 1, 1, 1, 1, 1, 2, 2, 0,\n",
       "        0, 2, 0, 0, 0, 1, 1, 0, 2, 0])}"
      ]
     },
     "execution_count": 8,
     "metadata": {},
     "output_type": "execute_result"
    }
   ],
   "source": [
    "best_config_stats = optimizer_result.get_incumbent_stats()\n",
    "best_config_stats"
   ]
  },
  {
   "cell_type": "code",
   "execution_count": 9,
   "id": "9c6a132f",
   "metadata": {},
   "outputs": [],
   "source": [
    "predicted_labels = best_config_stats[\"labels\"]"
   ]
  },
  {
   "cell_type": "code",
   "execution_count": 10,
   "id": "4021d73e",
   "metadata": {},
   "outputs": [
    {
     "data": {
      "text/plain": [
       "1.0"
      ]
     },
     "execution_count": 10,
     "metadata": {},
     "output_type": "execute_result"
    }
   ],
   "source": [
    "from sklearn.metrics import adjusted_rand_score\n",
    "adjusted_rand_score(predicted_labels, y)"
   ]
  }
 ],
 "metadata": {
  "kernelspec": {
   "display_name": "Python 3 (ipykernel)",
   "language": "python",
   "name": "python3"
  },
  "language_info": {
   "codemirror_mode": {
    "name": "ipython",
    "version": 3
   },
   "file_extension": ".py",
   "mimetype": "text/x-python",
   "name": "python",
   "nbconvert_exporter": "python",
   "pygments_lexer": "ipython3",
   "version": "3.9.7"
  }
 },
 "nbformat": 4,
 "nbformat_minor": 5
}
